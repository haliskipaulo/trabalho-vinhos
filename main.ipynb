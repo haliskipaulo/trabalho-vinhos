{
 "cells": [
  {
   "cell_type": "code",
   "execution_count": 1,
   "metadata": {},
   "outputs": [],
   "source": [
    "import numpy as np\n",
    "import pandas as pd\n",
    "import matplotlib.pyplot as plt"
   ]
  },
  {
   "cell_type": "code",
   "execution_count": null,
   "metadata": {},
   "outputs": [
    {
     "name": "stdout",
     "output_type": "stream",
     "text": [
      "1599\n"
     ]
    }
   ],
   "source": [
    "numEpocas = 100     # Número de épocas.\n",
    "\n",
    "tamanho = pd.read_csv('winequality-red.csv')\n",
    "q = len(tamanho)  # Número de amostras\n",
    "\n",
    "eta = 0.01            # Taxa de aprendizado"
   ]
  },
  {
   "cell_type": "code",
   "execution_count": null,
   "metadata": {},
   "outputs": [
    {
     "name": "stdout",
     "output_type": "stream",
     "text": [
      "[-1 -1 -1 ...  1 -1  1]\n"
     ]
    }
   ],
   "source": [
    "# Dados\n",
    "\n",
    "FixedAcidity = pd.read_csv('winequality-red.csv', usecols=[0])\n",
    "FixedAcidity = np.array(FixedAcidity)\n",
    "FixedAcidity = np.transpose(FixedAcidity)\n",
    "\n",
    "VolatileAcidity = pd.read_csv('winequality-red.csv', usecols=[1])\n",
    "VolatileAcidity = np.array(VolatileAcidity)\n",
    "VolatileAcidity = np.transpose(VolatileAcidity)\n",
    "\n",
    "CitricAcid = pd.read_csv('winequality-red.csv', usecols=[2])\n",
    "CitricAcid = np.array(CitricAcid)\n",
    "CitricAcid = np.transpose(CitricAcid)\n",
    "\n",
    "ResidualSugar = pd.read_csv('winequality-red.csv', usecols=[3])\n",
    "ResidualSugar = np.array(ResidualSugar)\n",
    "ResidualSugar = np.transpose(ResidualSugar)\n",
    "\n",
    "Chlorides = pd.read_csv('winequality-red.csv', usecols=[4])\n",
    "Chlorides = np.array(Chlorides)\n",
    "Chlorides = np.transpose(Chlorides)\n",
    "\n",
    "FreeSulfurDioxide = pd.read_csv('winequality-red.csv', usecols=[5])\n",
    "FreeSulfurDioxide = np.array(FreeSulfurDioxide)\n",
    "FreeSulfurDioxide = np.transpose(FreeSulfurDioxide)\n",
    "\n",
    "TotalSulfurDioxide = pd.read_csv('winequality-red.csv', usecols=[6])\n",
    "TotalSulfurDioxide = np.array(TotalSulfurDioxide)\n",
    "TotalSulfurDioxide = np.transpose(TotalSulfurDioxide)\n",
    "\n",
    "Density = pd.read_csv('winequality-red.csv', usecols=[7])\n",
    "Density = np.array(Density)\n",
    "Density = np.transpose(Density)\n",
    "\n",
    "pH = pd.read_csv('winequality-red.csv', usecols=[8])\n",
    "pH = np.array(pH)\n",
    "pH = np.transpose(pH)\n",
    "\n",
    "Sulphates = pd.read_csv('winequality-red.csv', usecols=[9])\n",
    "Sulphates = np.array(Sulphates)\n",
    "Sulphates = np.transpose(Sulphates)\n",
    "\n",
    "Alcohol = pd.read_csv('winequality-red.csv', usecols=[10])\n",
    "Alcohol = np.array(Alcohol)\n",
    "Alcohol = np.transpose(Alcohol)\n",
    "\n",
    "Quality = pd.read_csv('winequality-red.csv', usecols=[11])\n",
    "Quality = np.array(Quality)\n",
    "Quality = np.transpose(Quality)\n"
   ]
  },
  {
   "cell_type": "code",
   "execution_count": null,
   "metadata": {},
   "outputs": [],
   "source": [
    "# Entrada do perceptron\n",
    "X = np.vstack((FixedAcidity, VolatileAcidity, CitricAcid, ResidualSugar, \n",
    "               Chlorides, FreeSulfurDioxide, TotalSulfurDioxide, Density, \n",
    "               pH, Sulphates, Alcohol))\n",
    "\n",
    "# Saída\n",
    "d = np.array([1 if q >= 6 else -1 for q in Quality.flatten()])\n",
    "\n",
    "# Bias\n",
    "bias = 1\n",
    "\n",
    "W = np.zeros([1, 12]) # vetor de pesos para 11 entradas e bias\n",
    "\n",
    "m = 11                # Número de neurônios na camada de entrada \n",
    "N = [15,10,5]         # Número de neurônios em cada camada escondida. A professora pediu minimo 3\n",
    "L = 1                 # Número de neurônios na camada de saída. (-1 = Vinho ruim E 1 = Vinho bom)\n",
    "\n",
    "W1 = np.random.random((N, m + 1))\n",
    "W2 = np.random.random((L, N + 1))\n",
    "\n",
    "e = np.zeros(q) # array de erros\n",
    "Etm = np.zeros(numEpocas)\n",
    "\n",
    "def sigmoid(x):\n",
    "    #IMPLEMENTAR AQUI\n",
    "\n",
    "def deriv_sigmoid(x):\n",
    "    #IMPLEMENTAR AQUI\n",
    "\n",
    "def relu(x):\n",
    "    #IMPLEMENTAR AQUI\n",
    "\n",
    "def deriv_relu(x):\n",
    "    #IMPLEMENTAR AQUI\n",
    "\n",
    "# caso queira testar com outra função só trocar aqui embaixo\n",
    "funcao_ativacao = sigmoid  \n",
    "derivada_funcao = deriv_sigmoid  \n",
    "\n"
   ]
  },
  {
   "cell_type": "code",
   "execution_count": null,
   "metadata": {},
   "outputs": [],
   "source": [
    "# ===============================================================\n",
    "# TREINAMENTO.\n",
    "# ===============================================================\n",
    "\n",
    "for i in range(numEpocas):\n",
    " for j in range(q):\n",
    "  Xb = np.hstack((bias, X[:, j]))\n",
    "  o1 = np.tanh(W1.dot(Xb))\n",
    "  "
   ]
  }
 ],
 "metadata": {
  "kernelspec": {
   "display_name": "Python 3",
   "language": "python",
   "name": "python3"
  },
  "language_info": {
   "codemirror_mode": {
    "name": "ipython",
    "version": 3
   },
   "file_extension": ".py",
   "mimetype": "text/x-python",
   "name": "python",
   "nbconvert_exporter": "python",
   "pygments_lexer": "ipython3",
   "version": "3.12.5"
  }
 },
 "nbformat": 4,
 "nbformat_minor": 2
}
