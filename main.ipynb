{
 "cells": [
  {
   "cell_type": "code",
   "execution_count": null,
   "metadata": {},
   "outputs": [],
   "source": [
    "import numpy as np\n",
    "import pandas as pd"
   ]
  },
  {
   "cell_type": "code",
   "execution_count": null,
   "metadata": {},
   "outputs": [],
   "source": [
    "numEpocas = 100     # Número de épocas.\n",
    "\n",
    "tamanho = pd.read_csv('winequality-red.csv')\n",
    "q = len(tamanho)  # Número de amostras\n",
    "\n",
    "eta = 0.01            # Taxa de aprendizado"
   ]
  },
  {
   "cell_type": "code",
   "execution_count": null,
   "metadata": {},
   "outputs": [],
   "source": [
    "# Dados\n",
    "\n",
    "FixedAcidity = pd.read_csv('winequality-red.csv', usecols=[0], skiprows=1)\n",
    "FixedAcidity = np.array(FixedAcidity)\n",
    "FixedAcidity = np.transpose(FixedAcidity)\n",
    "\n",
    "VolatileAcidity = pd.read_csv('winequality-red.csv', usecols=[1], skiprows=1)\n",
    "VolatileAcidity = np.array(VolatileAcidity)\n",
    "VolatileAcidity = np.transpose(VolatileAcidity)\n",
    "\n",
    "CitricAcid = pd.read_csv('winequality-red.csv', usecols=[2], skiprows=1)\n",
    "CitricAcid = np.array(CitricAcid)\n",
    "CitricAcid = np.transpose(CitricAcid)\n",
    "\n",
    "ResidualSugar = pd.read_csv('winequality-red.csv', usecols=[3], skiprows=1)\n",
    "ResidualSugar = np.array(ResidualSugar)\n",
    "ResidualSugar = np.transpose(ResidualSugar)\n",
    "\n",
    "Chlorides = pd.read_csv('winequality-red.csv', usecols=[4], skiprows=1)\n",
    "Chlorides = np.array(Chlorides)\n",
    "Chlorides = np.transpose(Chlorides)\n",
    "\n",
    "FreeSulfurDioxide = pd.read_csv('winequality-red.csv', usecols=[5], skiprows=1)\n",
    "FreeSulfurDioxide = np.array(FreeSulfurDioxide)\n",
    "FreeSulfurDioxide = np.transpose(FreeSulfurDioxide)\n",
    "\n",
    "TotalSulfurDioxide = pd.read_csv('winequality-red.csv', usecols=[6], skiprows=1)\n",
    "TotalSulfurDioxide = np.array(TotalSulfurDioxide)\n",
    "TotalSulfurDioxide = np.transpose(TotalSulfurDioxide)\n",
    "\n",
    "Density = pd.read_csv('winequality-red.csv', usecols=[7], skiprows=1)\n",
    "Density = np.array(Density)\n",
    "Density = np.transpose(Density)\n",
    "\n",
    "pH = pd.read_csv('winequality-red.csv', usecols=[8], skiprows=1)\n",
    "pH = np.array(pH)\n",
    "pH = np.transpose(pH)\n",
    "\n",
    "Sulphates = pd.read_csv('winequality-red.csv', usecols=[9], skiprows=1)\n",
    "Sulphates = np.array(Sulphates)\n",
    "Sulphates = np.transpose(Sulphates)\n",
    "\n",
    "Alcohol = pd.read_csv('winequality-red.csv', usecols=[10], skiprows=1)\n",
    "Alcohol = np.array(Alcohol)\n",
    "Alcohol = np.transpose(Alcohol)\n",
    "\n",
    "Quality = pd.read_csv('winequality-red.csv', usecols=[11], skiprows=1)\n",
    "Quality = np.array(Quality)\n",
    "Quality = np.transpose(Quality)\n",
    "\n",
    "# Bias\n",
    "bias = 1\n",
    "\n",
    "# Entrada do perceptron\n",
    "X = np.vstack((FixedAcidity, VolatileAcidity, CitricAcid, ResidualSugar, \n",
    "               Chlorides, FreeSulfurDioxide, TotalSulfurDioxide, Density, \n",
    "               pH, Sulphates, Alcohol, Quality))"
   ]
  },
  {
   "cell_type": "code",
   "execution_count": null,
   "metadata": {},
   "outputs": [],
   "source": [
    "# ===============================================================\n",
    "# TREINAMENTO.\n",
    "# ===============================================================\n",
    "\n"
   ]
  }
 ],
 "metadata": {
  "language_info": {
   "name": "python"
  }
 },
 "nbformat": 4,
 "nbformat_minor": 2
}
